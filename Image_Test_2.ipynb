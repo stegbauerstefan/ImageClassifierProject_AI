{
 "cells": [
  {
   "cell_type": "code",
   "execution_count": 32,
   "metadata": {},
   "outputs": [],
   "source": [
    "from PIL import Image\n",
    "import numpy as np\n",
    "import torch\n",
    "from torchvision import datasets, transforms, models"
   ]
  },
  {
   "cell_type": "markdown",
   "metadata": {},
   "source": [
    "# Inference for classification\n",
    "\n",
    "Now you'll write a function to use a trained network for inference. That is, you'll pass an image into the network and predict the class of the flower in the image. Write a function called `predict` that takes an image and a model, then returns the top $K$ most likely classes along with the probabilities. It should look like \n",
    "\n",
    "```python\n",
    "probs, classes = predict(image_path, model)\n",
    "print(probs)\n",
    "print(classes)\n",
    "> [ 0.01558163  0.01541934  0.01452626  0.01443549  0.01407339]\n",
    "> ['70', '3', '45', '62', '55']\n",
    "```\n",
    "\n",
    "First you'll need to handle processing the input image such that it can be used in your network. \n",
    "\n",
    "## Image Preprocessing\n",
    "\n",
    "You'll want to use `PIL` to load the image ([documentation](https://pillow.readthedocs.io/en/latest/reference/Image.html)). It's best to write a function that preprocesses the image so it can be used as input for the model. This function should process the images in the same manner used for training. \n",
    "\n",
    "First, resize the images where the shortest side is 256 pixels, keeping the aspect ratio. This can be done with the [`thumbnail`](http://pillow.readthedocs.io/en/3.1.x/reference/Image.html#PIL.Image.Image.thumbnail) or [`resize`](http://pillow.readthedocs.io/en/3.1.x/reference/Image.html#PIL.Image.Image.thumbnail) methods. Then you'll need to crop out the center 224x224 portion of the image.\n",
    "\n",
    "Color channels of images are typically encoded as integers 0-255, but the model expected floats 0-1. You'll need to convert the values. It's easiest with a Numpy array, which you can get from a PIL image like so `np_image = np.array(pil_image)`.\n",
    "\n",
    "As before, the network expects the images to be normalized in a specific way. For the means, it's `[0.485, 0.456, 0.406]` and for the standard deviations `[0.229, 0.224, 0.225]`. You'll want to subtract the means from each color channel, then divide by the standard deviation. \n",
    "\n",
    "And finally, PyTorch expects the color channel to be the first dimension but it's the third dimension in the PIL image and Numpy array. You can reorder dimensions using [`ndarray.transpose`](https://docs.scipy.org/doc/numpy-1.13.0/reference/generated/numpy.ndarray.transpose.html). The color channel needs to be first and retain the order of the other two dimensions."
   ]
  },
  {
   "cell_type": "markdown",
   "metadata": {},
   "source": [
    "To check your work, the function below converts a PyTorch tensor and displays it in the notebook. If your `process_image` function works, running the output through this function should return the original image (except for the cropped out portions)."
   ]
  },
  {
   "cell_type": "code",
   "execution_count": 33,
   "metadata": {},
   "outputs": [
    {
     "name": "stdout",
     "output_type": "stream",
     "text": [
      "image1 format:  JPEG\n",
      "image1 size:  (500, 601)\n",
      "image1 mode:  RGB\n"
     ]
    }
   ],
   "source": [
    "#for self test\n",
    "\n",
    "filepath1 = 'flowers/test/1/image_06743.jpg'\n",
    "image1 = Image.open(filepath1)\n",
    "\n",
    "print('image1 format: ',image1.format )\n",
    "print('image1 size: ',image1.size )\n",
    "print('image1 mode: ',image1.mode )\n"
   ]
  },
  {
   "cell_type": "code",
   "execution_count": 34,
   "metadata": {},
   "outputs": [],
   "source": [
    "size = (256,256)\n",
    "image1 = image1.resize(size)"
   ]
  },
  {
   "cell_type": "code",
   "execution_count": 35,
   "metadata": {},
   "outputs": [
    {
     "name": "stdout",
     "output_type": "stream",
     "text": [
      "image1 format:  None\n",
      "image1 size:  (256, 256)\n",
      "image1 mode:  RGB\n"
     ]
    }
   ],
   "source": [
    "print('image1 format: ',image1.format )\n",
    "print('image1 size: ',image1.size )\n",
    "print('image1 mode: ',image1.mode )"
   ]
  },
  {
   "cell_type": "code",
   "execution_count": 36,
   "metadata": {},
   "outputs": [
    {
     "name": "stdout",
     "output_type": "stream",
     "text": [
      "width:  256\n",
      "height:  256\n",
      "left:  16.0\n",
      "top:  16.0\n",
      "right:  240.0\n",
      "bottom:  240.0\n"
     ]
    }
   ],
   "source": [
    "width, height = image1.size\n",
    "print('width: ', width)\n",
    "print('height: ', height)\n",
    "new_width = 224\n",
    "new_height =224\n",
    "left = (width - new_width)/2\n",
    "top = (height - new_height)/2\n",
    "right = (width + new_width)/2\n",
    "bottom = (height + new_height)/2\n",
    "print('left: ',left)\n",
    "print('top: ',top)\n",
    "print('right: ',right)\n",
    "print('bottom: ',bottom)\n",
    "image1 = image1.crop((left, top, right, bottom))"
   ]
  },
  {
   "cell_type": "code",
   "execution_count": 37,
   "metadata": {},
   "outputs": [
    {
     "name": "stdout",
     "output_type": "stream",
     "text": [
      "image1 format:  None\n",
      "image1 size:  (224, 224)\n",
      "image1 mode:  RGB\n"
     ]
    }
   ],
   "source": [
    "print('image1 format: ',image1.format )\n",
    "print('image1 size: ',image1.size )\n",
    "print('image1 mode: ',image1.mode )"
   ]
  },
  {
   "cell_type": "code",
   "execution_count": 38,
   "metadata": {},
   "outputs": [],
   "source": [
    "np_image1 = np.array(image1)"
   ]
  },
  {
   "cell_type": "code",
   "execution_count": 44,
   "metadata": {},
   "outputs": [
    {
     "data": {
      "text/plain": [
       "array([[[ 6, 13,  6],\n",
       "        [13, 20, 13],\n",
       "        [23, 28, 22],\n",
       "        ..., \n",
       "        [33, 48, 25],\n",
       "        [58, 78, 51],\n",
       "        [61, 81, 56]],\n",
       "\n",
       "       [[17, 24, 16],\n",
       "        [21, 28, 20],\n",
       "        [21, 26, 19],\n",
       "        ..., \n",
       "        [12, 19, 11],\n",
       "        [ 6, 20,  3],\n",
       "        [14, 28, 11]],\n",
       "\n",
       "       [[25, 32, 24],\n",
       "        [23, 30, 22],\n",
       "        [16, 21, 14],\n",
       "        ..., \n",
       "        [14, 18, 19],\n",
       "        [20, 30, 19],\n",
       "        [28, 40, 26]],\n",
       "\n",
       "       ..., \n",
       "       [[47, 63, 27],\n",
       "        [46, 64, 26],\n",
       "        [43, 64, 23],\n",
       "        ..., \n",
       "        [37, 61,  3],\n",
       "        [36, 62,  0],\n",
       "        [34, 58,  0]],\n",
       "\n",
       "       [[43, 61, 23],\n",
       "        [39, 60, 19],\n",
       "        [44, 67, 23],\n",
       "        ..., \n",
       "        [29, 55,  0],\n",
       "        [29, 56,  0],\n",
       "        [30, 56,  0]],\n",
       "\n",
       "       [[32, 52,  3],\n",
       "        [29, 48,  2],\n",
       "        [23, 42,  0],\n",
       "        ..., \n",
       "        [28, 50,  4],\n",
       "        [29, 49,  0],\n",
       "        [28, 48,  0]]], dtype=uint8)"
      ]
     },
     "execution_count": 44,
     "metadata": {},
     "output_type": "execute_result"
    }
   ],
   "source": [
    "#image1 = np_image1/255\n",
    "image1 = np_image1\n",
    "image1"
   ]
  },
  {
   "cell_type": "code",
   "execution_count": 45,
   "metadata": {},
   "outputs": [
    {
     "name": "stdout",
     "output_type": "stream",
     "text": [
      "the dimensions of the array:  (224, 224, 3)\n",
      "the total number of elements of the array:  150528\n",
      "the type of the elements in the array:  uint8\n"
     ]
    }
   ],
   "source": [
    "print('the dimensions of the array: ', image1.shape)\n",
    "print('the total number of elements of the array: ', image1.size)\n",
    "print('the type of the elements in the array: ',image1.dtype.name)"
   ]
  },
  {
   "cell_type": "code",
   "execution_count": 46,
   "metadata": {},
   "outputs": [],
   "source": [
    "#normalize the torch tensor\n",
    "normalize = transforms.Normalize(mean = [0.485, 0.456, 0.406],\n",
    "                                 std = [0.229, 0.224, 0.225])\n",
    "transform = transforms.Compose([transforms.ToTensor(), normalize])\n",
    "torch_image1_norm = transform(image1)"
   ]
  },
  {
   "cell_type": "code",
   "execution_count": 47,
   "metadata": {},
   "outputs": [
    {
     "name": "stdout",
     "output_type": "stream",
     "text": [
      "tensor size:  torch.Size([3, 224, 224])\n"
     ]
    },
    {
     "data": {
      "text/plain": [
       "tensor([[[-2.0152, -1.8953, -1.7240,  ..., -1.5528, -1.1247, -1.0733],\n",
       "         [-1.8268, -1.7583, -1.7583,  ..., -1.9124, -2.0152, -1.8782],\n",
       "         [-1.6898, -1.7240, -1.8439,  ..., -1.8782, -1.7754, -1.6384],\n",
       "         ...,\n",
       "         [-1.3130, -1.3302, -1.3815,  ..., -1.4843, -1.5014, -1.5357],\n",
       "         [-1.3815, -1.4500, -1.3644,  ..., -1.6213, -1.6213, -1.6042],\n",
       "         [-1.5699, -1.6213, -1.7240,  ..., -1.6384, -1.6213, -1.6384]],\n",
       "\n",
       "        [[-1.8081, -1.6856, -1.5455,  ..., -1.1954, -0.6702, -0.6176],\n",
       "         [-1.6155, -1.5455, -1.5805,  ..., -1.7031, -1.6856, -1.5455],\n",
       "         [-1.4755, -1.5105, -1.6681,  ..., -1.7206, -1.5105, -1.3354],\n",
       "         ...,\n",
       "         [-0.9328, -0.9153, -0.9153,  ..., -0.9678, -0.9503, -1.0203],\n",
       "         [-0.9678, -0.9853, -0.8627,  ..., -1.0728, -1.0553, -1.0553],\n",
       "         [-1.1253, -1.1954, -1.3004,  ..., -1.1604, -1.1779, -1.1954]],\n",
       "\n",
       "        [[-1.6999, -1.5779, -1.4210,  ..., -1.3687, -0.9156, -0.8284],\n",
       "         [-1.5256, -1.4559, -1.4733,  ..., -1.6127, -1.7522, -1.6127],\n",
       "         [-1.3861, -1.4210, -1.5604,  ..., -1.4733, -1.4733, -1.3513],\n",
       "         ...,\n",
       "         [-1.3339, -1.3513, -1.4036,  ..., -1.7522, -1.8044, -1.8044],\n",
       "         [-1.4036, -1.4733, -1.4036,  ..., -1.8044, -1.8044, -1.8044],\n",
       "         [-1.7522, -1.7696, -1.8044,  ..., -1.7347, -1.8044, -1.8044]]])"
      ]
     },
     "execution_count": 47,
     "metadata": {},
     "output_type": "execute_result"
    }
   ],
   "source": [
    "print('tensor size: ',torch_image1_norm.size())\n",
    "torch_image1_norm"
   ]
  },
  {
   "cell_type": "code",
   "execution_count": null,
   "metadata": {},
   "outputs": [],
   "source": []
  }
 ],
 "metadata": {
  "kernelspec": {
   "display_name": "Python 3",
   "language": "python",
   "name": "python3"
  },
  "language_info": {
   "codemirror_mode": {
    "name": "ipython",
    "version": 3
   },
   "file_extension": ".py",
   "mimetype": "text/x-python",
   "name": "python",
   "nbconvert_exporter": "python",
   "pygments_lexer": "ipython3",
   "version": "3.6.3"
  }
 },
 "nbformat": 4,
 "nbformat_minor": 2
}
